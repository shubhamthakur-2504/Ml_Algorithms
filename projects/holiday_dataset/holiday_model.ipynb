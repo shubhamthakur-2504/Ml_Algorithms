{
 "cells": [
  {
   "cell_type": "markdown",
   "metadata": {},
   "source": [
    "## Traning Model for prediction"
   ]
  },
  {
   "cell_type": "code",
   "execution_count": 17,
   "metadata": {},
   "outputs": [],
   "source": [
    "from sklearn.model_selection import train_test_split\n",
    "from sklearn.preprocessing import  OneHotEncoder, StandardScaler\n",
    "from sklearn.compose import ColumnTransformer\n",
    "from sklearn.ensemble import RandomForestClassifier\n",
    "from sklearn.metrics import accuracy_score,confusion_matrix,classification_report,f1_score,roc_auc_score,recall_score,precision_score\n",
    "import pandas as pd"
   ]
  },
  {
   "cell_type": "code",
   "execution_count": 6,
   "metadata": {},
   "outputs": [],
   "source": [
    "data = pd.read_csv('Holiday_cleaned_dataset.csv')"
   ]
  },
  {
   "cell_type": "code",
   "execution_count": 8,
   "metadata": {},
   "outputs": [],
   "source": [
    "x=data.copy()\n",
    "x.drop('ProdTaken',axis=1,inplace=True)\n",
    "y=data['ProdTaken']"
   ]
  },
  {
   "cell_type": "code",
   "execution_count": 9,
   "metadata": {},
   "outputs": [],
   "source": [
    "x_train,x_test,y_train,y_test=train_test_split(x,y,test_size=0.2,random_state=42)"
   ]
  },
  {
   "cell_type": "code",
   "execution_count": 12,
   "metadata": {},
   "outputs": [],
   "source": [
    "cat_feature = x.select_dtypes(include=['object']).columns\n",
    "num_feature = x.select_dtypes(exclude=['object']).columns\n"
   ]
  },
  {
   "cell_type": "code",
   "execution_count": 14,
   "metadata": {},
   "outputs": [],
   "source": [
    "nun_transformer = StandardScaler()\n",
    "oneH_transformer = OneHotEncoder(drop='first')\n",
    "preprocessor = ColumnTransformer([\n",
    "    ('standardizer',nun_transformer,num_feature),\n",
    "    ('oneHotencoder',oneH_transformer,cat_feature)\n",
    "])"
   ]
  },
  {
   "cell_type": "code",
   "execution_count": 15,
   "metadata": {},
   "outputs": [],
   "source": [
    "x_train = preprocessor.fit_transform(x_train)\n",
    "x_test = preprocessor.transform(x_test)"
   ]
  },
  {
   "cell_type": "code",
   "execution_count": 18,
   "metadata": {},
   "outputs": [
    {
     "name": "stdout",
     "output_type": "stream",
     "text": [
      "---------------------------------------------------------\n",
      "model name: RandomForestClassifier\n",
      "---------------------------------------------------------\n",
      "Training report\n",
      "---------------------------------------------------------\n",
      "Accuracy: 1.0\n",
      "F1 score: 1.0\n",
      "precision_score: 1.0\n",
      "Recall score: 1.0\n",
      "Roc Auc score: 1.0\n",
      "---------------------------------------------------------\n",
      "---------------------------------------------------------\n",
      "Testing report\n",
      "Accuracy: 0.9274028629856851\n",
      "F1 score: 0.9211642407299702\n",
      "precision_score: 0.9838709677419355\n",
      "Recall score: 0.6387434554973822\n",
      "Roc Auc score: 0.8181010797181956\n",
      "---------------------------------------------------------\n",
      "---------------------------------------------------------\n",
      "[[785   2]\n",
      " [ 69 122]]\n",
      "              precision    recall  f1-score   support\n",
      "\n",
      "           0       0.92      1.00      0.96       787\n",
      "           1       0.98      0.64      0.77       191\n",
      "\n",
      "    accuracy                           0.93       978\n",
      "   macro avg       0.95      0.82      0.87       978\n",
      "weighted avg       0.93      0.93      0.92       978\n",
      "\n",
      "---------------------------------------------------------\n"
     ]
    }
   ],
   "source": [
    "models = {\n",
    "    'RandomForestClassifier':RandomForestClassifier()\n",
    "}\n",
    "for i in range(len(list(models))):\n",
    "    model = list(models.values())[i]\n",
    "    model.fit(x_train,y_train)\n",
    "\n",
    "    y_train_pred = model.predict(x_train)\n",
    "    y_test_pred = model.predict(x_test)\n",
    "    print('---------------------------------------------------------')\n",
    "    print(f'model name: {list(models.keys())[i]}')\n",
    "    print('---------------------------------------------------------')\n",
    "    print('Training report')\n",
    "    print('---------------------------------------------------------')\n",
    "    print(f'Accuracy: {accuracy_score(y_train,y_train_pred)}')\n",
    "    print(f'F1 score: {f1_score(y_train , y_train_pred, average='weighted')}')\n",
    "    print(f'precision_score: {precision_score(y_train,y_train_pred)}')\n",
    "    print(f'Recall score: {recall_score(y_train,y_train_pred)}')\n",
    "    print(f'Roc Auc score: {roc_auc_score(y_train,y_train_pred)}')\n",
    "    print('---------------------------------------------------------')\n",
    "    print('---------------------------------------------------------')\n",
    "    print('Testing report')\n",
    "    print(f'Accuracy: {accuracy_score(y_test,y_test_pred)}')\n",
    "    print(f'F1 score: {f1_score(y_test,y_test_pred, average='weighted')}')\n",
    "    print(f'precision_score: {precision_score(y_test,y_test_pred)}')\n",
    "    print(f'Recall score: {recall_score(y_test,y_test_pred)}')\n",
    "    print(f'Roc Auc score: {roc_auc_score(y_test,y_test_pred)}')\n",
    "    print('---------------------------------------------------------')\n",
    "    print('---------------------------------------------------------')\n",
    "    print(confusion_matrix(y_test,y_test_pred))\n",
    "    print(classification_report(y_test,y_test_pred))\n",
    "    print('---------------------------------------------------------')\n"
   ]
  },
  {
   "cell_type": "markdown",
   "metadata": {},
   "source": [
    "## Hyperperameter tunning"
   ]
  },
  {
   "cell_type": "code",
   "execution_count": 19,
   "metadata": {},
   "outputs": [],
   "source": [
    "from sklearn.model_selection import RandomizedSearchCV"
   ]
  },
  {
   "cell_type": "code",
   "execution_count": 20,
   "metadata": {},
   "outputs": [],
   "source": [
    "rf_params = {\n",
    "    \"max_depth\":[5,8,10,15,None],\n",
    "    \"max_features\":[5,7,8,\"auto\"],\n",
    "    \"min_samples_split\":[2,8,15,20],\n",
    "    \"n_estimators\":[100,200,500,1000,1500,2000]\n",
    "}\n",
    "random_models = [\n",
    "    (\"rf\",RandomForestClassifier(),rf_params)\n",
    "]"
   ]
  },
  {
   "cell_type": "code",
   "execution_count": 21,
   "metadata": {},
   "outputs": [
    {
     "name": "stdout",
     "output_type": "stream",
     "text": [
      "Fitting 3 folds for each of 100 candidates, totalling 300 fits\n"
     ]
    },
    {
     "name": "stderr",
     "output_type": "stream",
     "text": [
      "e:\\codes\\course\\mlenv\\Lib\\site-packages\\sklearn\\model_selection\\_validation.py:540: FitFailedWarning: \n",
      "81 fits failed out of a total of 300.\n",
      "The score on these train-test partitions for these parameters will be set to nan.\n",
      "If these failures are not expected, you can try to debug them by setting error_score='raise'.\n",
      "\n",
      "Below are more details about the failures:\n",
      "--------------------------------------------------------------------------------\n",
      "75 fits failed with the following error:\n",
      "Traceback (most recent call last):\n",
      "  File \"e:\\codes\\course\\mlenv\\Lib\\site-packages\\sklearn\\model_selection\\_validation.py\", line 888, in _fit_and_score\n",
      "    estimator.fit(X_train, y_train, **fit_params)\n",
      "  File \"e:\\codes\\course\\mlenv\\Lib\\site-packages\\sklearn\\base.py\", line 1466, in wrapper\n",
      "    estimator._validate_params()\n",
      "  File \"e:\\codes\\course\\mlenv\\Lib\\site-packages\\sklearn\\base.py\", line 666, in _validate_params\n",
      "    validate_parameter_constraints(\n",
      "  File \"e:\\codes\\course\\mlenv\\Lib\\site-packages\\sklearn\\utils\\_param_validation.py\", line 95, in validate_parameter_constraints\n",
      "    raise InvalidParameterError(\n",
      "sklearn.utils._param_validation.InvalidParameterError: The 'max_features' parameter of RandomForestClassifier must be an int in the range [1, inf), a float in the range (0.0, 1.0], a str among {'log2', 'sqrt'} or None. Got 'auto' instead.\n",
      "\n",
      "--------------------------------------------------------------------------------\n",
      "6 fits failed with the following error:\n",
      "Traceback (most recent call last):\n",
      "  File \"e:\\codes\\course\\mlenv\\Lib\\site-packages\\sklearn\\model_selection\\_validation.py\", line 888, in _fit_and_score\n",
      "    estimator.fit(X_train, y_train, **fit_params)\n",
      "  File \"e:\\codes\\course\\mlenv\\Lib\\site-packages\\sklearn\\base.py\", line 1466, in wrapper\n",
      "    estimator._validate_params()\n",
      "  File \"e:\\codes\\course\\mlenv\\Lib\\site-packages\\sklearn\\base.py\", line 666, in _validate_params\n",
      "    validate_parameter_constraints(\n",
      "  File \"e:\\codes\\course\\mlenv\\Lib\\site-packages\\sklearn\\utils\\_param_validation.py\", line 95, in validate_parameter_constraints\n",
      "    raise InvalidParameterError(\n",
      "sklearn.utils._param_validation.InvalidParameterError: The 'max_features' parameter of RandomForestClassifier must be an int in the range [1, inf), a float in the range (0.0, 1.0], a str among {'sqrt', 'log2'} or None. Got 'auto' instead.\n",
      "\n",
      "  warnings.warn(some_fits_failed_message, FitFailedWarning)\n",
      "e:\\codes\\course\\mlenv\\Lib\\site-packages\\numpy\\ma\\core.py:2881: RuntimeWarning: invalid value encountered in cast\n",
      "  _data = np.array(data, dtype=dtype, copy=copy,\n",
      "e:\\codes\\course\\mlenv\\Lib\\site-packages\\sklearn\\model_selection\\_search.py:1103: UserWarning: One or more of the test scores are non-finite: [       nan 0.91841582 0.86087046        nan 0.86214897 0.83350519\n",
      " 0.867264   0.84220071 0.86905395 0.87544827 0.91406707        nan\n",
      " 0.84552657 0.91355622        nan 0.91509133 0.86138191        nan\n",
      " 0.86445174        nan 0.84220091 0.87058848 0.891561   0.86138191\n",
      " 0.86087007 0.87519186        nan 0.86598431 0.88388876        nan\n",
      " 0.86905435        nan 0.88030669        nan 0.87493644 0.91534657\n",
      " 0.8731457         nan 0.83503932 0.86572849 0.89130479 0.83478331\n",
      " 0.8721236  0.87289047 0.86189315 0.87289007 0.8828643         nan\n",
      "        nan        nan        nan 0.87186699 0.86854231 0.83452827\n",
      " 0.86112628 0.87979545 0.88849136        nan 0.86266081 0.89207186\n",
      " 0.86035922 0.8938624  0.86675334 0.9145795  0.87135496        nan\n",
      " 0.86649673 0.88721285        nan        nan        nan 0.83273773\n",
      " 0.86572928 0.86777564 0.86240499        nan 0.91176548 0.91816098\n",
      " 0.87365793        nan 0.891818   0.8432236  0.86828669 0.86445018\n",
      "        nan 0.8734025  0.8902821  0.91534637 0.84194489 0.86828649\n",
      "        nan        nan 0.86035863 0.89028171        nan 0.87391375\n",
      "        nan 0.86445057 0.86879794 0.84168907]\n",
      "  warnings.warn(\n"
     ]
    },
    {
     "name": "stdout",
     "output_type": "stream",
     "text": [
      "0.9335378323108384\n",
      "[[782  60]\n",
      " [  5 131]]\n"
     ]
    }
   ],
   "source": [
    "for name,model,params in random_models:\n",
    "    random = RandomizedSearchCV(\n",
    "        estimator=model,\n",
    "        param_distributions=params,\n",
    "        n_iter=100,\n",
    "        cv=3,\n",
    "        verbose=2,\n",
    "        n_jobs=-1\n",
    "        )\n",
    "    random.fit(x_train,y_train)\n",
    "    \n",
    "y_pred=random.predict(x_test)\n",
    "print(accuracy_score(y_pred,y_test))\n",
    "print(confusion_matrix(y_pred,y_test))\n",
    "\n"
   ]
  },
  {
   "cell_type": "code",
   "execution_count": null,
   "metadata": {},
   "outputs": [],
   "source": []
  }
 ],
 "metadata": {
  "kernelspec": {
   "display_name": "Python 3",
   "language": "python",
   "name": "python3"
  },
  "language_info": {
   "codemirror_mode": {
    "name": "ipython",
    "version": 3
   },
   "file_extension": ".py",
   "mimetype": "text/x-python",
   "name": "python",
   "nbconvert_exporter": "python",
   "pygments_lexer": "ipython3",
   "version": "3.12.7"
  }
 },
 "nbformat": 4,
 "nbformat_minor": 2
}
