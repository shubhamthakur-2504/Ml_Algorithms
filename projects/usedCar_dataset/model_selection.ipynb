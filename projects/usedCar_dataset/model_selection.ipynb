{
 "cells": [
  {
   "cell_type": "markdown",
   "metadata": {},
   "source": [
    "## Selection from different models "
   ]
  },
  {
   "cell_type": "code",
   "execution_count": 8,
   "metadata": {},
   "outputs": [],
   "source": [
    "from sklearn.model_selection import train_test_split\n",
    "from sklearn.ensemble import RandomForestRegressor\n",
    "from sklearn.tree import DecisionTreeRegressor\n",
    "from sklearn.linear_model import LinearRegression,Ridge,Lasso\n",
    "from sklearn.svm import SVR\n",
    "from sklearn.neighbors import KNeighborsRegressor\n",
    "from sklearn.metrics import mean_squared_error, r2_score,mean_absolute_error\n",
    "from sklearn.model_selection import GridSearchCV\n",
    "import pandas as pd"
   ]
  },
  {
   "cell_type": "code",
   "execution_count": 9,
   "metadata": {},
   "outputs": [],
   "source": [
    "def eveluate_model(model,true,pred):\n",
    "    print(\"==\"*20)\n",
    "    print(\"Model: \",model.__class__.__name__)\n",
    "    true=true.values.reshape(-1,1)\n",
    "    pred=pred.reshape(-1,1)\n",
    "    print(\"--\"*20)\n",
    "    print(\"R2 Score: \",r2_score(true,pred))\n",
    "    print(\"MSE: \",mean_squared_error(true,pred))\n",
    "    print(\"MAE: \",mean_absolute_error(true,pred))\n",
    "    print(\"==\"*20)"
   ]
  },
  {
   "cell_type": "code",
   "execution_count": 10,
   "metadata": {},
   "outputs": [],
   "source": [
    "data= pd.read_csv('cleaned_data.csv')\n",
    "x=data.drop(columns=[data.columns[15]],axis=1)\n",
    "y=data.iloc[:,15]\n",
    "x_train , x_test , y_train , y_test = train_test_split(x,y,test_size=0.2,random_state=42)"
   ]
  },
  {
   "cell_type": "code",
   "execution_count": 11,
   "metadata": {},
   "outputs": [],
   "source": [
    "models = {\n",
    "    \"Random Forest Regressor\": RandomForestRegressor(),\n",
    "    \"Decision Tree Regressor\": DecisionTreeRegressor(),\n",
    "    \"Linear Regression\": LinearRegression(),\n",
    "    \"Ridge Regression\": Ridge(),\n",
    "    \"Lasso Regression\": Lasso(),\n",
    "    \"Support Vector Regression\": SVR(),\n",
    "    \"KNN Regression\": KNeighborsRegressor(),\n",
    "}"
   ]
  },
  {
   "cell_type": "code",
   "execution_count": 12,
   "metadata": {},
   "outputs": [
    {
     "name": "stdout",
     "output_type": "stream",
     "text": [
      "Evaluating model on Training data\n",
      "========================================\n",
      "Model:  RandomForestRegressor\n",
      "----------------------------------------\n",
      "R2 Score:  0.9743366983796437\n",
      "MSE:  20813830337.366215\n",
      "MAE:  39580.50333996615\n",
      "========================================\n",
      "========================================\n",
      "Evaluating model on Testing data\n",
      "========================================\n",
      "Model:  RandomForestRegressor\n",
      "----------------------------------------\n",
      "R2 Score:  0.9327865860845653\n",
      "MSE:  50597034071.74996\n",
      "MAE:  100876.25498648104\n",
      "========================================\n",
      "========================================\n",
      "Evaluating model on Training data\n",
      "========================================\n",
      "Model:  DecisionTreeRegressor\n",
      "----------------------------------------\n",
      "R2 Score:  0.9994666998284044\n",
      "MSE:  432524990.53644824\n",
      "MAE:  5164.819922128488\n",
      "========================================\n",
      "========================================\n",
      "Evaluating model on Testing data\n",
      "========================================\n",
      "Model:  DecisionTreeRegressor\n",
      "----------------------------------------\n",
      "R2 Score:  0.8871592578767633\n",
      "MSE:  84944455894.98415\n",
      "MAE:  122610.9498324143\n",
      "========================================\n",
      "========================================\n",
      "Evaluating model on Training data\n",
      "========================================\n",
      "Model:  LinearRegression\n",
      "----------------------------------------\n",
      "R2 Score:  0.6219505790641252\n",
      "MSE:  306611231200.9522\n",
      "MAE:  268209.07931516797\n",
      "========================================\n",
      "========================================\n",
      "Evaluating model on Testing data\n",
      "========================================\n",
      "Model:  LinearRegression\n",
      "----------------------------------------\n",
      "R2 Score:  0.6644878952110299\n",
      "MSE:  252567402971.8309\n",
      "MAE:  279388.5934059951\n",
      "========================================\n",
      "========================================\n",
      "Evaluating model on Training data\n",
      "========================================\n",
      "Model:  Ridge\n",
      "----------------------------------------\n",
      "R2 Score:  0.6219495740529852\n",
      "MSE:  306612046299.94696\n",
      "MAE:  268186.10389225895\n",
      "========================================\n",
      "========================================\n",
      "Evaluating model on Testing data\n",
      "========================================\n",
      "Model:  Ridge\n",
      "----------------------------------------\n",
      "R2 Score:  0.6644948047632553\n",
      "MSE:  252562201586.7353\n",
      "MAE:  279341.7749916865\n",
      "========================================\n",
      "========================================\n",
      "Evaluating model on Training data\n",
      "========================================\n",
      "Model:  Lasso\n",
      "----------------------------------------\n",
      "R2 Score:  0.6219505730814312\n",
      "MSE:  306611236053.1252\n",
      "MAE:  268207.31251628\n",
      "========================================\n",
      "========================================\n",
      "Evaluating model on Testing data\n",
      "========================================\n",
      "Model:  Lasso\n",
      "----------------------------------------\n",
      "R2 Score:  0.6644886440936848\n",
      "MSE:  252566839226.6051\n",
      "MAE:  279385.40288426384\n",
      "========================================\n",
      "========================================\n",
      "Evaluating model on Training data\n",
      "========================================\n",
      "Model:  SVR\n",
      "----------------------------------------\n",
      "R2 Score:  -0.05551474468345763\n",
      "MSE:  856059175059.6774\n",
      "MAE:  396451.56821652345\n",
      "========================================\n",
      "========================================\n",
      "Evaluating model on Testing data\n",
      "========================================\n",
      "Model:  SVR\n",
      "----------------------------------------\n",
      "R2 Score:  -0.06811163242694196\n",
      "MSE:  804054987094.2965\n",
      "MAE:  417689.0344898437\n",
      "========================================\n",
      "========================================\n",
      "Evaluating model on Training data\n",
      "========================================\n",
      "Model:  KNeighborsRegressor\n",
      "----------------------------------------\n",
      "R2 Score:  0.7088627236372099\n",
      "MSE:  236122458627.5146\n",
      "MAE:  193914.55223880598\n",
      "========================================\n",
      "========================================\n",
      "Evaluating model on Testing data\n",
      "========================================\n",
      "Model:  KNeighborsRegressor\n",
      "----------------------------------------\n",
      "R2 Score:  0.6353657984963319\n",
      "MSE:  274489987079.3464\n",
      "MAE:  255856.60882257542\n",
      "========================================\n",
      "========================================\n"
     ]
    }
   ],
   "source": [
    "for i in range(len(list(models))):\n",
    "    model = list(models.values())[i]\n",
    "    model.fit(x_train,y_train)\n",
    "    y_train_pred = model.predict(x_train)\n",
    "    y_test_pred = model.predict(x_test)\n",
    "    print(\"Evaluating model on Training data\")\n",
    "    eveluate_model(model,y_train,y_train_pred)\n",
    "    print(\"==\"*20)\n",
    "    print(\"Evaluating model on Testing data\")\n",
    "    eveluate_model(model,y_test,y_test_pred)\n",
    "    print(\"==\"*20)"
   ]
  },
  {
   "cell_type": "markdown",
   "metadata": {},
   "source": [
    "## Hyperparameter Tuning on KNN Regression and Random Forest Regression"
   ]
  },
  {
   "cell_type": "code",
   "execution_count": 16,
   "metadata": {},
   "outputs": [],
   "source": [
    "kNN_params={\n",
    "    \"n_neighbors\":[i for i in range(1,20)],\n",
    "    \"weights\":[\"uniform\",\"distance\"],\n",
    "    \"algorithm\":[\"auto\",\"ball_tree\",\"kd_tree\",\"brute\"],\n",
    "    \"p\":[1,2]\n",
    "}\n",
    "\n",
    "rf_params ={\n",
    "    \"n_estimators\":[5,10,25,50,100,200,500,1000],\n",
    "    \"max_depth\":[None,2,5,10,15],\n",
    "    \"min_samples_split\":[2,5,10,20],\n",
    "    \"max_features\":[None,\"sqrt\",\"log2\"],\n",
    "}"
   ]
  },
  {
   "cell_type": "code",
   "execution_count": 17,
   "metadata": {},
   "outputs": [],
   "source": [
    "grid_models=[\n",
    "    (\"Random Forest Regressor\",RandomForestRegressor(),rf_params),\n",
    "    (\"K nearest neighbour\",KNeighborsRegressor(),kNN_params)\n",
    "]"
   ]
  },
  {
   "cell_type": "code",
   "execution_count": 18,
   "metadata": {},
   "outputs": [
    {
     "name": "stdout",
     "output_type": "stream",
     "text": [
      "Fitting 3 folds for each of 480 candidates, totalling 1440 fits\n"
     ]
    },
    {
     "name": "stderr",
     "output_type": "stream",
     "text": [
      "e:\\codes\\course\\mlenv\\Lib\\site-packages\\numpy\\ma\\core.py:2881: RuntimeWarning: invalid value encountered in cast\n",
      "  _data = np.array(data, dtype=dtype, copy=copy,\n"
     ]
    },
    {
     "name": "stdout",
     "output_type": "stream",
     "text": [
      "Fitting 3 folds for each of 304 candidates, totalling 912 fits\n"
     ]
    },
    {
     "name": "stderr",
     "output_type": "stream",
     "text": [
      "e:\\codes\\course\\mlenv\\Lib\\site-packages\\numpy\\ma\\core.py:2881: RuntimeWarning: invalid value encountered in cast\n",
      "  _data = np.array(data, dtype=dtype, copy=copy,\n"
     ]
    }
   ],
   "source": [
    "model_prams={}\n",
    "\n",
    "for name,model,params in grid_models:\n",
    "    grid_search = GridSearchCV(\n",
    "        estimator=model,\n",
    "        param_grid=params,\n",
    "        cv=3,\n",
    "        n_jobs=-1,\n",
    "        verbose=1,\n",
    "    )\n",
    "    grid_search.fit(x_train,y_train)\n",
    "    model_prams[name]=grid_search.best_params_\n",
    "    "
   ]
  },
  {
   "cell_type": "code",
   "execution_count": 19,
   "metadata": {},
   "outputs": [
    {
     "data": {
      "text/plain": [
       "{'Random Forest Regressor': {'max_depth': None,\n",
       "  'max_features': None,\n",
       "  'min_samples_split': 10,\n",
       "  'n_estimators': 25},\n",
       " 'K nearest neighbour': {'algorithm': 'auto',\n",
       "  'n_neighbors': 4,\n",
       "  'p': 1,\n",
       "  'weights': 'distance'}}"
      ]
     },
     "execution_count": 19,
     "metadata": {},
     "output_type": "execute_result"
    }
   ],
   "source": [
    "model_prams"
   ]
  },
  {
   "cell_type": "code",
   "execution_count": 20,
   "metadata": {},
   "outputs": [],
   "source": [
    "models={\n",
    "    \"Random Forest Regressor\": RandomForestRegressor(**model_prams[\"Random Forest Regressor\"]),\n",
    "    \"K nearest neighbour\": KNeighborsRegressor(**model_prams[\"K nearest neighbour\"]),\n",
    "}"
   ]
  },
  {
   "cell_type": "code",
   "execution_count": 21,
   "metadata": {},
   "outputs": [
    {
     "name": "stdout",
     "output_type": "stream",
     "text": [
      "Evaluating model on Training data\n",
      "========================================\n",
      "Model:  RandomForestRegressor\n",
      "----------------------------------------\n",
      "R2 Score:  0.9493428504787946\n",
      "MSE:  41084710420.60421\n",
      "MAE:  67473.01528088134\n",
      "========================================\n",
      "========================================\n",
      "Evaluating model on Testing data\n",
      "========================================\n",
      "Model:  RandomForestRegressor\n",
      "----------------------------------------\n",
      "R2 Score:  0.9341154309673906\n",
      "MSE:  49596703841.58231\n",
      "MAE:  102237.31147866213\n",
      "========================================\n",
      "========================================\n",
      "Evaluating model on Training data\n",
      "========================================\n",
      "Model:  KNeighborsRegressor\n",
      "----------------------------------------\n",
      "R2 Score:  0.9994659171143871\n",
      "MSE:  433159798.8319273\n",
      "MAE:  5169.3975773307375\n",
      "========================================\n",
      "========================================\n",
      "Evaluating model on Testing data\n",
      "========================================\n",
      "Model:  KNeighborsRegressor\n",
      "----------------------------------------\n",
      "R2 Score:  0.6809946285710928\n",
      "MSE:  240141434678.01385\n",
      "MAE:  227442.63921070044\n",
      "========================================\n",
      "========================================\n"
     ]
    }
   ],
   "source": [
    "for i in range(len(list(models))):\n",
    "    model = list(models.values())[i]\n",
    "    model.fit(x_train,y_train)\n",
    "    y_train_pred = model.predict(x_train)\n",
    "    y_test_pred = model.predict(x_test)\n",
    "    print(\"Evaluating model on Training data\")\n",
    "    eveluate_model(model,y_train,y_train_pred)\n",
    "    print(\"==\"*20)\n",
    "    print(\"Evaluating model on Testing data\")\n",
    "    eveluate_model(model,y_test,y_test_pred)\n",
    "    print(\"==\"*20)"
   ]
  },
  {
   "cell_type": "code",
   "execution_count": null,
   "metadata": {},
   "outputs": [],
   "source": []
  }
 ],
 "metadata": {
  "kernelspec": {
   "display_name": "Python 3",
   "language": "python",
   "name": "python3"
  },
  "language_info": {
   "codemirror_mode": {
    "name": "ipython",
    "version": 3
   },
   "file_extension": ".py",
   "mimetype": "text/x-python",
   "name": "python",
   "nbconvert_exporter": "python",
   "pygments_lexer": "ipython3",
   "version": "3.12.7"
  }
 },
 "nbformat": 4,
 "nbformat_minor": 2
}
